{
 "cells": [
  {
   "cell_type": "markdown",
   "id": "c9b0e85c",
   "metadata": {
    "papermill": {
     "duration": 0.010992,
     "end_time": "2025-01-12T05:59:50.852060",
     "exception": false,
     "start_time": "2025-01-12T05:59:50.841068",
     "status": "completed"
    },
    "tags": []
   },
   "source": [
    "# 1.이산확률변수"
   ]
  },
  {
   "cell_type": "markdown",
   "id": "5265f3ae",
   "metadata": {
    "papermill": {
     "duration": 0.009874,
     "end_time": "2025-01-12T05:59:50.872318",
     "exception": false,
     "start_time": "2025-01-12T05:59:50.862444",
     "status": "completed"
    },
    "tags": []
   },
   "source": [
    "## 이산형 균일 분포"
   ]
  },
  {
   "cell_type": "markdown",
   "id": "6f01b0ad",
   "metadata": {
    "papermill": {
     "duration": 0.009691,
     "end_time": "2025-01-12T05:59:50.891936",
     "exception": false,
     "start_time": "2025-01-12T05:59:50.882245",
     "status": "completed"
    },
    "tags": []
   },
   "source": [
    "<font size=\"4\">\n",
    "\n",
    "**균일 분포(uniform distribution)** 는 이산형 확률 분포의 한 종류로 확률 변수가 특정 값을 가질 확률이 모두 동일한 분포를 의미한다. 예를 들면, 주사위를 던졌을 때 나오는 숫자를 확률변수 $X$라고 할 때, 확률 변수 $X$가 1일 확률과 6일 확률은 동일하다."
   ]
  },
  {
   "cell_type": "markdown",
   "id": "fe439619",
   "metadata": {
    "papermill": {
     "duration": 0.0098,
     "end_time": "2025-01-12T05:59:50.912025",
     "exception": false,
     "start_time": "2025-01-12T05:59:50.902225",
     "status": "completed"
    },
    "tags": []
   },
   "source": [
    "<font size=\"4\">\n",
    "\n",
    "확률 변수 $X$가 **이산형 균일 분포(discrete uniform distribution)** 를 따를 때, 확률 질량 함수는 다음과 같이 나타낸다.\n",
    "\n",
    "$$\n",
    "X \\sim U(1,N)\n",
    "$$\n",
    "$$\n",
    "P(X=x)=\\frac{1}{N}, x=1,2,...,N\n",
    "$$"
   ]
  },
  {
   "cell_type": "markdown",
   "id": "d42f9e8b",
   "metadata": {
    "papermill": {
     "duration": 0.010051,
     "end_time": "2025-01-12T05:59:50.933219",
     "exception": false,
     "start_time": "2025-01-12T05:59:50.923168",
     "status": "completed"
    },
    "tags": []
   },
   "source": [
    "<font size=\"4\">\n",
    "\n",
    "위 식과 같이 확률 변수 $X$가 $1$과 $N$ 사이의 값 중 하나를 가질 확률이 모두 동일할 때 균일 분포의 확률 질량 함수는 위와 같이 표현하며 $U$는 uniform을 의미한다."
   ]
  },
  {
   "cell_type": "markdown",
   "id": "4dd29c17",
   "metadata": {
    "papermill": {
     "duration": 0.011807,
     "end_time": "2025-01-12T05:59:50.955252",
     "exception": false,
     "start_time": "2025-01-12T05:59:50.943445",
     "status": "completed"
    },
    "tags": []
   },
   "source": [
    "<font size=\"4\">\n",
    "\n",
    "위와 같은 함수가 확률 분포가 되려면 확률 분포를 구성하는 확률의 총합은 1이 되어야 한다. 이를 위해 위 확률 질량 함수의 합이 1인지 확인해보자. 확률 변수 $X$가 $1$부터 $N$까지 존재하므로 이들에 대응되는 확률의 합은 다음과 같다.\n",
    "\n",
    "$$\n",
    "\\Sigma ^N_{x=1}P(X=x)=\\Sigma ^N_{x=1}\\frac{1}{N}=N\\cdot\\frac{1}{N}=1\n",
    "$$\n",
    "위 결과와 같이 확률의 합이 1이므로 확률 질량 함수의 성질을 만족하는 것을 볼 수 있다."
   ]
  },
  {
   "cell_type": "markdown",
   "id": "eac61255",
   "metadata": {
    "papermill": {
     "duration": 0.009777,
     "end_time": "2025-01-12T05:59:50.976095",
     "exception": false,
     "start_time": "2025-01-12T05:59:50.966318",
     "status": "completed"
    },
    "tags": []
   },
   "source": [
    "<font size=\"4\">\n",
    "\n",
    "이산형 균일 분포의 기댓값과 분산은 다음과 같다.\n",
    "$$\n",
    "E(X)=\\frac{N+1}{2}\n",
    "$$\n",
    "\n",
    "$$\n",
    "Var(X)=\\frac{(N+1)(N-1)}{12}\n",
    "$$"
   ]
  },
  {
   "cell_type": "markdown",
   "id": "8dcb1785",
   "metadata": {
    "papermill": {
     "duration": 0.010258,
     "end_time": "2025-01-12T05:59:50.997826",
     "exception": false,
     "start_time": "2025-01-12T05:59:50.987568",
     "status": "completed"
    },
    "tags": []
   },
   "source": [
    "# 2.베르누이 분포"
   ]
  },
  {
   "cell_type": "markdown",
   "id": "4640a3b6",
   "metadata": {
    "papermill": {
     "duration": 0.01288,
     "end_time": "2025-01-12T05:59:51.022642",
     "exception": false,
     "start_time": "2025-01-12T05:59:51.009762",
     "status": "completed"
    },
    "tags": []
   },
   "source": [
    "## 베르누이 분포 개념"
   ]
  },
  {
   "cell_type": "markdown",
   "id": "374fa3be",
   "metadata": {
    "papermill": {
     "duration": 0.009518,
     "end_time": "2025-01-12T05:59:51.043161",
     "exception": false,
     "start_time": "2025-01-12T05:59:51.033643",
     "status": "completed"
    },
    "tags": []
   },
   "source": [
    "<font size=\"4\">\n",
    "\n",
    "**베르누이 분포(Bernoulli distribution)** 를 따르는 확률변수 $X$는 한 번 시행했을 때의 성공 횟수를 의미하며, 이때, 한 번 시행하므로 베르누이 분포를 다른 말로 베르누이 시행(Bernoulli trial)이라고 부르기도 한다. 앞서 성공 횟수라는 표현을 사용했지만, 베르누이 분포는 한 번 시행했을 때의 성공할 확률로 볼 수도 있고 혹은 실패할 확률을 나타내는 것이라고도 볼 수 있다."
   ]
  },
  {
   "cell_type": "markdown",
   "id": "17dbf9bb",
   "metadata": {
    "papermill": {
     "duration": 0.009587,
     "end_time": "2025-01-12T05:59:51.064552",
     "exception": false,
     "start_time": "2025-01-12T05:59:51.054965",
     "status": "completed"
    },
    "tags": []
   },
   "source": [
    "<font size=\"4\">\n",
    "\n",
    "확률 변수 $X$가 베르누이 분포를 따를 때 베르누이 분포의 확률 질량 함수는 다음과 같이 나타낼 수 있다.\n",
    "$$\n",
    "X \\sim Bernoulli(p)\n",
    "$$\n",
    "\n",
    "$$\n",
    "P(X=x)=p^x(1-p)^{1-x}, x=0,1\n",
    "$$\n",
    "위 식에서 확률 변수 $X$는 $0$또는 $1$, 단 두 가지 종류의 값을 가질 수 있는데 이때, $0$은 실패, $1$은 성공이라고 볼 수 있다. 그리고 성공할 확률은 $p$, 실패할 확률은 $1-p$로 표현한다.\n",
    "$$\n",
    "\\Sigma^1_{x=0}P(X=x)=\\Sigma^1_{x=0}p^x(1-p)^{1-x}=(1-p)+p=1\n",
    "$$\n"
   ]
  },
  {
   "cell_type": "markdown",
   "id": "118f2188",
   "metadata": {
    "papermill": {
     "duration": 0.009496,
     "end_time": "2025-01-12T05:59:51.084114",
     "exception": false,
     "start_time": "2025-01-12T05:59:51.074618",
     "status": "completed"
    },
    "tags": []
   },
   "source": [
    "<font size=\"4\">\n",
    "\n",
    "베르누이 분포의 기댓값과 분산은 다음과 같이 나타낸다.\n",
    "$$\n",
    "E(X)=p\n",
    "$$\n",
    "$$\n",
    "Var(X)=p(1-p)\n",
    "$$"
   ]
  },
  {
   "cell_type": "markdown",
   "id": "d917d92d",
   "metadata": {
    "papermill": {
     "duration": 0.0095,
     "end_time": "2025-01-12T05:59:51.104686",
     "exception": false,
     "start_time": "2025-01-12T05:59:51.095186",
     "status": "completed"
    },
    "tags": []
   },
   "source": [
    "# 3.이항 분포"
   ]
  },
  {
   "cell_type": "markdown",
   "id": "c99d9225",
   "metadata": {
    "papermill": {
     "duration": 0.009352,
     "end_time": "2025-01-12T05:59:51.123892",
     "exception": false,
     "start_time": "2025-01-12T05:59:51.114540",
     "status": "completed"
    },
    "tags": []
   },
   "source": [
    "## 이항 분포의 개념"
   ]
  },
  {
   "cell_type": "markdown",
   "id": "79edff09",
   "metadata": {
    "papermill": {
     "duration": 0.009542,
     "end_time": "2025-01-12T05:59:51.143314",
     "exception": false,
     "start_time": "2025-01-12T05:59:51.133772",
     "status": "completed"
    },
    "tags": []
   },
   "source": [
    "<font size=\"4\">\n",
    "\n",
    "이항 정리\n",
    "$$\n",
    "(p+q)^n=\\Sigma^n_{x=0}\\binom{n}{x}p^xq^{n-x}\n",
    "$$\n",
    "\n",
    "응용\n",
    "$$\n",
    "2^n=(1+1)^n=\\Sigma^n_{x=0}\\binom{n}{x}1^x1^{n-x}=\\Sigma^n_{x=0}\\binom{n}{x}\n",
    "$$"
   ]
  },
  {
   "cell_type": "markdown",
   "id": "ce4c09e0",
   "metadata": {
    "papermill": {
     "duration": 0.010158,
     "end_time": "2025-01-12T05:59:51.163826",
     "exception": false,
     "start_time": "2025-01-12T05:59:51.153668",
     "status": "completed"
    },
    "tags": []
   },
   "source": [
    "<font size=\"4\">\n",
    "\n",
    "**이항 분포(binomial distribution)** 를 따르는 확률 변수 $X$는 독립적인 베르누이 시행을 $n$번 했을 때의 성공 횟수를 의미한다. 즉, $iid$를 만족하는 확률 변수 $Y_1, Y_2, ..., Y_n$이 성공 확률이 $p$인 베르누이 분포를 따를 때, 이들의 합인 확률 변수 $X$는 이항 분포를 따르는 것이다. 이를 정리하면 다음과 같다.\n",
    "$$\n",
    "Y_1, Y_2, ..., Y_n \\sim Bernoulli(p)\n",
    "$$\n",
    "$$\n",
    "X=\\Sigma^n_{i=1}Y_i\n",
    "$$\n",
    "$$\n",
    "X \\sim Binomial(n,p)\n",
    "$$"
   ]
  },
  {
   "cell_type": "markdown",
   "id": "dc807e99",
   "metadata": {
    "papermill": {
     "duration": 0.009498,
     "end_time": "2025-01-12T05:59:51.183311",
     "exception": false,
     "start_time": "2025-01-12T05:59:51.173813",
     "status": "completed"
    },
    "tags": []
   },
   "source": [
    "<font size=\"4\">\n",
    "\n",
    "확률 변수 $X$가 이항 분포를 따를 때, 이항 분포의 확률 질량 함수는 다음과 같다.\n",
    "$$\n",
    "X\\sim Binomial(n,p)\n",
    "$$\n",
    "$$\n",
    "P(X=x)=\\binom{n}{x}p^x(1-p)^{n-x}, x=0,1,...,n\n",
    "$$\n",
    "$$\n",
    "\\binom{n}{x}=\\frac{n!}{x!(n-x)}\n",
    "$$"
   ]
  },
  {
   "cell_type": "markdown",
   "id": "a14ad7bb",
   "metadata": {
    "papermill": {
     "duration": 0.010615,
     "end_time": "2025-01-12T05:59:51.204285",
     "exception": false,
     "start_time": "2025-01-12T05:59:51.193670",
     "status": "completed"
    },
    "tags": []
   },
   "source": [
    "<font size=\"4\">\n",
    "\n",
    "이항 분포의 확률 질량 함수를 보면 확률 변수 $X$는 독립 시행을 $n$번 했을 때의 성공 횟수를 의미하므로 확률 변수 $X$가 가질 수 있는 값은 $0$부터 $n$까지임을 알 수 있다. 그리고 각 시행이 성공할 확률은 $p$, 실패할 확률은 $1-p$에 해당한다. 즉, 위의 식은 $n$번의 시행 중 $x$번 성공, $n-x$번 실패할 확률을 나타내는 것이다. \n",
    "$$\n",
    "\\Sigma ^n _{x=0}P(X=x)=\\Sigma^n_{x=0}\\binom{n}{x}p^x(1-p)^{n-x}=(p+1-p)^n=1\n",
    "$$"
   ]
  },
  {
   "cell_type": "markdown",
   "id": "745f8b33",
   "metadata": {
    "papermill": {
     "duration": 0.009528,
     "end_time": "2025-01-12T05:59:51.223828",
     "exception": false,
     "start_time": "2025-01-12T05:59:51.214300",
     "status": "completed"
    },
    "tags": []
   },
   "source": [
    "<font size=\"4\">\n",
    "\n",
    "이항 분포의 기댓값과 분산은 다음과 같이 나타낸다.\n",
    "$$\n",
    "E(X)=np\n",
    "$$\n",
    "$$\n",
    "Var(X)=np(1-p)\n",
    "$$"
   ]
  },
  {
   "cell_type": "markdown",
   "id": "c79c86b6",
   "metadata": {
    "papermill": {
     "duration": 0.009416,
     "end_time": "2025-01-12T05:59:51.243210",
     "exception": false,
     "start_time": "2025-01-12T05:59:51.233794",
     "status": "completed"
    },
    "tags": []
   },
   "source": [
    "## 이항 분포의 적률 생성 함수"
   ]
  },
  {
   "cell_type": "markdown",
   "id": "6462b1c7",
   "metadata": {
    "papermill": {
     "duration": 0.009652,
     "end_time": "2025-01-12T05:59:51.262660",
     "exception": false,
     "start_time": "2025-01-12T05:59:51.253008",
     "status": "completed"
    },
    "tags": []
   },
   "source": [
    "<font size=\"4\">\n",
    "\n",
    "이항 분포의 적률 생성 함수 $M_X(t)$는 다음과 같이 구할 수 있다.\n",
    "\n",
    "\\begin{aligned}\n",
    "M_X(t) &= E(e^{tx})\\\\\n",
    "&=\\Sigma e^{tx}\\cdot P(X=x)\\\\\n",
    "&=\\Sigma^n _{x=0}e^{tx} \\binom{n}{x} p^x(1-p)^{n-x}\\\\\n",
    "&=\\Sigma^n _{x=0} \\binom{n}{x}(pe^t)^x(1-p)^{n-x}\\\\\n",
    "&=[pe^t +(1-p)]^n\n",
    "\\end{aligned}\n",
    "\n",
    "$$\n",
    "\\therefore M_X(t)=[pe^t+(1-p)]^n\n",
    "$$"
   ]
  },
  {
   "cell_type": "markdown",
   "id": "7b71c6cb",
   "metadata": {
    "papermill": {
     "duration": 0.009959,
     "end_time": "2025-01-12T05:59:51.282368",
     "exception": false,
     "start_time": "2025-01-12T05:59:51.272409",
     "status": "completed"
    },
    "tags": []
   },
   "source": [
    "### 적률 생성 함수를 이용한 기댓값 구하기"
   ]
  },
  {
   "cell_type": "markdown",
   "id": "ecfe64d0",
   "metadata": {
    "papermill": {
     "duration": 0.009768,
     "end_time": "2025-01-12T05:59:51.302312",
     "exception": false,
     "start_time": "2025-01-12T05:59:51.292544",
     "status": "completed"
    },
    "tags": []
   },
   "source": [
    "<font size=\"4\">\n",
    "\n",
    "기댓값을 구하기 위해서는 먼저 $M^{'}_X(t)$를 구해야 한다. 먼저 구한 적률 생성 함수는 다음과 같다.\n",
    "$$\n",
    "M_X(t)=[pe^t+(1-p)]^n\n",
    "$$"
   ]
  },
  {
   "cell_type": "markdown",
   "id": "a62ebc70",
   "metadata": {
    "papermill": {
     "duration": 0.009841,
     "end_time": "2025-01-12T05:59:51.323562",
     "exception": false,
     "start_time": "2025-01-12T05:59:51.313721",
     "status": "completed"
    },
    "tags": []
   },
   "source": [
    "<font size=\"4\">\n",
    "\n",
    "위 적률 생성 함수를 이용해 한번 미분한 값인 $M^{'}_X(t)$를 구해보면,\n",
    "$$\n",
    "M^{'}_X(t)=n[pe^t+(1-p)]^{n-1}\\cdot pe^t\n",
    "$$"
   ]
  },
  {
   "cell_type": "markdown",
   "id": "91a34e4d",
   "metadata": {
    "papermill": {
     "duration": 0.011817,
     "end_time": "2025-01-12T05:59:51.345247",
     "exception": false,
     "start_time": "2025-01-12T05:59:51.333430",
     "status": "completed"
    },
    "tags": []
   },
   "source": [
    "<font size=\"4\">\n",
    "\n",
    "$t=0$을 대입하면,\n",
    "$$\n",
    "M^{'}_X(0)=np\n",
    "$$\n",
    "\n",
    "$$\n",
    "\\therefore E(X)=np\n",
    "$$"
   ]
  },
  {
   "cell_type": "markdown",
   "id": "35859fb0",
   "metadata": {
    "papermill": {
     "duration": 0.010863,
     "end_time": "2025-01-12T05:59:51.366269",
     "exception": false,
     "start_time": "2025-01-12T05:59:51.355406",
     "status": "completed"
    },
    "tags": []
   },
   "source": [
    "### 적률 생성 함수를 이용한 분산 구하기"
   ]
  },
  {
   "cell_type": "markdown",
   "id": "b6c175fa",
   "metadata": {
    "papermill": {
     "duration": 0.010769,
     "end_time": "2025-01-12T05:59:51.387291",
     "exception": false,
     "start_time": "2025-01-12T05:59:51.376522",
     "status": "completed"
    },
    "tags": []
   },
   "source": [
    "<font size=\"4\">\n",
    "\n",
    "$$\n",
    "Var(X)=E(X^2)-[E(X)]^2\n",
    "$$\n",
    "\n",
    "\n",
    "\\begin{aligned}\n",
    "E(X^2)&=M_X^{''}(0)\\\\\n",
    "&=np-n^2p^2-np^2\n",
    "\\end{aligned}\n",
    "\n",
    "\\begin{aligned}\n",
    "Var(X)&=E(X^2)-[E(X)]^2\\\\\n",
    "&=np-n^2p^2-np^2-(np)^2\\\\\n",
    "&=np-np^2\\\\\n",
    "&=np(1-p)\n",
    "\\end{aligned}\n"
   ]
  },
  {
   "cell_type": "markdown",
   "id": "e44ed59c",
   "metadata": {
    "papermill": {
     "duration": 0.009494,
     "end_time": "2025-01-12T05:59:51.406750",
     "exception": false,
     "start_time": "2025-01-12T05:59:51.397256",
     "status": "completed"
    },
    "tags": []
   },
   "source": [
    "# 4.포아송 분포"
   ]
  },
  {
   "cell_type": "markdown",
   "id": "8513607b",
   "metadata": {
    "papermill": {
     "duration": 0.009446,
     "end_time": "2025-01-12T05:59:51.425984",
     "exception": false,
     "start_time": "2025-01-12T05:59:51.416538",
     "status": "completed"
    },
    "tags": []
   },
   "source": [
    "## 포아송 분포의 개념"
   ]
  },
  {
   "cell_type": "markdown",
   "id": "7833360f",
   "metadata": {
    "papermill": {
     "duration": 0.009375,
     "end_time": "2025-01-12T05:59:51.445376",
     "exception": false,
     "start_time": "2025-01-12T05:59:51.436001",
     "status": "completed"
    },
    "tags": []
   },
   "source": [
    "<font size=\"4\">\n",
    "\n",
    "포아송 분포는 매우 중요한 분포로 적용되는 분야가 넓고, 이후 확률 과정(stochastic process)에서 포아송 과정(Poisson process)에 적용된다."
   ]
  },
  {
   "cell_type": "markdown",
   "id": "c992a657",
   "metadata": {
    "papermill": {
     "duration": 0.009482,
     "end_time": "2025-01-12T05:59:51.464800",
     "exception": false,
     "start_time": "2025-01-12T05:59:51.455318",
     "status": "completed"
    },
    "tags": []
   },
   "source": [
    "<font size=\"4\">\n",
    "\n",
    "확률 변수 $X$가 단위 시간 동안 발생하는 이벤트의 횟수라고 했을 때, 확률 변수 $X$가 **포아송 분포(Poisson distribution)** 을 따른다고 말하고, 포아송 분포의 확률 질량 함수는 다음과 같이 표현한다.\n",
    "$$\n",
    "X \\sim Poisson(\\lambda)\n",
    "$$\n",
    "\n",
    "$$\n",
    "P(X=x) = \\frac{e^{-\\lambda}\\lambda^x}{x!}, x=0,1,2,...\n",
    "$$\n",
    "$$\n",
    "e^\\lambda = \\Sigma^\\infty _{x=0} \\frac{\\lambda^x}{x!}\n",
    "$$"
   ]
  },
  {
   "cell_type": "markdown",
   "id": "975fb731",
   "metadata": {
    "papermill": {
     "duration": 0.009409,
     "end_time": "2025-01-12T05:59:51.484189",
     "exception": false,
     "start_time": "2025-01-12T05:59:51.474780",
     "status": "completed"
    },
    "tags": []
   },
   "source": [
    "<font size=\"4\">\n",
    "\n",
    "위 식에서 확률 질량 함수를 보면 확률 변수 $X$는 단위 시간 동안 발생한 이벤트의 횟수이므로 $0$부터 무한대의 값을 가지는 것을 알 수 있다. 또한 위 식에서 $e^\\lambda$는 테일러 급수를 활용해 표한할 수 있다.\n",
    "$$\n",
    "\\Sigma ^\\infty _{x=0}P(X=x)=\\Sigma ^\\infty _{x=0}\\frac{e^{-\\lambda} \\lambda ^x}{x!}=e^{-\\lambda}\\Sigma^\\infty _{x=0}\\frac{\\lambda^x}{x!}=e^{-\\lambda}e^\\lambda=1\n",
    "$$\n",
    "\n",
    "포아송 분포의 기댓값과 분산은 다음과 같다.\n",
    "$$\n",
    "E(X)=\\lambda\n",
    "$$\n",
    "\n",
    "$$\n",
    "Var(X)=\\lambda\n",
    "$$"
   ]
  },
  {
   "cell_type": "markdown",
   "id": "64b17d47",
   "metadata": {
    "papermill": {
     "duration": 0.009687,
     "end_time": "2025-01-12T05:59:51.503814",
     "exception": false,
     "start_time": "2025-01-12T05:59:51.494127",
     "status": "completed"
    },
    "tags": []
   },
   "source": [
    "## 포아송 분포의 적률 생성 함수"
   ]
  },
  {
   "attachments": {
    "f1f81577-d855-4816-b4b0-03eca20bb369.png": {
     "image/png": "[encoded data removed]"
    }
   },
   "cell_type": "markdown",
   "id": "e29929d3",
   "metadata": {
    "papermill": {
     "duration": 0.009459,
     "end_time": "2025-01-12T05:59:51.523209",
     "exception": false,
     "start_time": "2025-01-12T05:59:51.513750",
     "status": "completed"
    },
    "tags": []
   },
   "source": [
    "<font size=\"4\">\n",
    "\n",
    "포아송 분포의 적률 생성 함수를 구해 보자. 먼저 포아송 분포의 확률 질량 함수는 다음과 같다.\n",
    "$$\n",
    "X\\sim Poisson(\\lambda)\n",
    "$$\n",
    "$$\n",
    "P(X=x)=\\frac{e^{\\lambda}\\lambda ^x}{x!}, x=0,1,2,...\n",
    "$$\n",
    "\n",
    "위와 같은 확률 질량 함수의 적률 생섬 함수 $M_X(t)$를 구하면 다음과 같다.\n",
    "\\begin{aligned}\n",
    "M_X(t)&=E(e^{tx})\\\\\n",
    "&=\\Sigma e^{tx} \\cdot P(X=x)\\\\\n",
    "&=\\Sigma^\\infty _{x=0} e^{tx} \\cdot \\frac{e^{-\\lambda}\\lambda^x}{x!}\\\\\n",
    "&=e^{-\\lambda}\\Sigma ^\\infty _{x=0} \\frac{e^{tx}}{x!}\\\\\n",
    "&=e^{-\\lambda}\\Sigma ^\\infty _{x=0} \\frac{(e^t\\lambda)^x}{x!}\\\\\n",
    "&=e^{-\\lambda} e^{\\lambda e^t}\\\\\n",
    "&=e^{\\lambda(e^t-1)}\n",
    "\\end{aligned}\n",
    "\n",
    "$$\n",
    "\\therefore M_X(t)=e^{\\lambda (e^t-1)}\n",
    "$$"
   ]
  },
  {
   "cell_type": "markdown",
   "id": "b76b8887",
   "metadata": {
    "papermill": {
     "duration": 0.01007,
     "end_time": "2025-01-12T05:59:51.543300",
     "exception": false,
     "start_time": "2025-01-12T05:59:51.533230",
     "status": "completed"
    },
    "tags": []
   },
   "source": [
    "## 이항 분포의 포아송 근사"
   ]
  },
  {
   "cell_type": "markdown",
   "id": "e8e72f2e",
   "metadata": {
    "papermill": {
     "duration": 0.009954,
     "end_time": "2025-01-12T05:59:51.563337",
     "exception": false,
     "start_time": "2025-01-12T05:59:51.553383",
     "status": "completed"
    },
    "tags": []
   },
   "source": [
    "<font size=\"4\">\n",
    "\n",
    "앞서 배운 이항 분포와 포아송 분포 간에는 특별한 관계가 성립한다. 앞서 우리는 다음과 같은 이항분포를 배웠다.\n",
    "$$\n",
    "P(X=x)=\\binom{n}{x}p^x(1-p)^{n-x}, x=0,1,...,n\n",
    "$$\n",
    "$$\n",
    "X \\sim Binomial(n,p)\n",
    "$$\n",
    "위 식에서 알 수 있듯, 이항 분포에 영향을 주는 요인은 표본의 크기 $n$과 성공할 확률 $p$이다. 이때, 이항 분포에서 $n$이 크고 $p$가 작다면 이항 분포는 포아송 분포에 가까워진다.\n",
    "$$\n",
    "P(X=x) \\approx \\frac{e^{-np}(np)^{x}}{x!}, x=0,1,...\n",
    "$$\n",
    "$$\n",
    "X \\sim Poisson(\\lambda=np)\n",
    "$$"
   ]
  },
  {
   "cell_type": "markdown",
   "id": "41ecda40",
   "metadata": {
    "papermill": {
     "duration": 0.00907,
     "end_time": "2025-01-12T05:59:51.582257",
     "exception": false,
     "start_time": "2025-01-12T05:59:51.573187",
     "status": "completed"
    },
    "tags": []
   },
   "source": [
    "<font size=\"4\">\n",
    "\n",
    "즉, 위 식과 같이 이항 분포에서 $n$이 크고 $p$가 작은 경우, $\\lambda$가 $np$인 포아송 분포에 근접하는 것이다. 이를 정리하면 다음과 같이 표현할 수 있다.\n",
    "$$\n",
    "X \\sim Binomial(n,p=\\frac{\\lambda}{n})\n",
    "$$\n",
    "$$\n",
    "Y \\sim Poisson(\\lambda)\n",
    "$$\n",
    "\\begin{aligned}\n",
    "\\lim _{n \\to \\infty} Binomial(n,p=\\frac{\\lambda}{n})&=\\frac{e^{-\\lambda}\\lambda^x}{x!}\\\\\n",
    "&=Poisson(\\lambda)\n",
    "\\end{aligned}"
   ]
  },
  {
   "cell_type": "markdown",
   "id": "ced8c031",
   "metadata": {
    "papermill": {
     "duration": 0.009807,
     "end_time": "2025-01-12T05:59:51.601678",
     "exception": false,
     "start_time": "2025-01-12T05:59:51.591871",
     "status": "completed"
    },
    "tags": []
   },
   "source": [
    "<font size=\"4\">\n",
    "\n",
    "이항 분포의 포아송 근사와 관련된 간단한 예제를 보자. 하루 동안 3000명이 복권을 샀을 때, 당첨될 확률이 0.002라고 하고, 복권에 당첨된 사람 수를 확률 변수 $X$라고 하면 확률 변수 $X$는 다음과 같은 이항 분포를 따른다.\n",
    "$$\n",
    "X=복권에 당첨된 사람 수\n",
    "$$\n",
    "$$\n",
    "X \\sim Binomial(n=3000,p=0.002)\n",
    "$$\n",
    "이때, $n$이 크고 $p$가 작으므로 확률 변수 $X$는 다음과 같은 포아송 분포를 따른다고 할 수 있다.\n",
    "$$\n",
    "\\lambda =3000 \\times 0.002=6\n",
    "$$\n",
    "$$\n",
    "X \\sim Poisson(\\lambda=6)\n",
    "$$\n",
    "$$\n",
    "P(X=x)=\\frac{e^{-6}6^x}{x!}, x=0,1,...\n",
    "$$\n",
    "위 식을 토대로 확률 변수 $X$가 3일 확률 $P(X=3)$을 구하면 다음과 같다.\n",
    "$$\n",
    "P(X=3)=\\frac{e^{-6}6^3}{3!}=\\frac{0.0024\\times 216}{6}=0.0864\n",
    "$$"
   ]
  },
  {
   "cell_type": "markdown",
   "id": "63d574bb",
   "metadata": {
    "papermill": {
     "duration": 0.009037,
     "end_time": "2025-01-12T05:59:51.620252",
     "exception": false,
     "start_time": "2025-01-12T05:59:51.611215",
     "status": "completed"
    },
    "tags": []
   },
   "source": [
    "# 기하 분포"
   ]
  },
  {
   "cell_type": "markdown",
   "id": "767bdc91",
   "metadata": {
    "papermill": {
     "duration": 0.009124,
     "end_time": "2025-01-12T05:59:51.639005",
     "exception": false,
     "start_time": "2025-01-12T05:59:51.629881",
     "status": "completed"
    },
    "tags": []
   },
   "source": [
    "## 기하 분포의 개념"
   ]
  },
  {
   "cell_type": "markdown",
   "id": "c497ee63",
   "metadata": {
    "papermill": {
     "duration": 0.009563,
     "end_time": "2025-01-12T05:59:51.658037",
     "exception": false,
     "start_time": "2025-01-12T05:59:51.648474",
     "status": "completed"
    },
    "tags": []
   },
   "source": [
    "<font size=\"4\">\n",
    "\n",
    "**기하 분포(geometric distribution)** 을 따르는 확률 변수는 베르누이 시행을 계속 시행할 때, 처음 성공할 때까지의 시행 횟수라고 볼 수도 있으며 처음 성공할 때까지의 실패 횟수라고 볼 수도 있다. 처음 성공할 때까지의 시행 횟수를 나타내는 확률 변수를 $X$라고 하고 처음 성공할 때까지의 실패 횟수를 확률 변수 $Y$라고 했을 때 두 확률 변수 사이에는 다음과 같은 관계가 성립한다.\n",
    "$$\n",
    "Y=X-1\n",
    "$$\n",
    "위 식에서 $Y$는 실패 횟수를 의미하는데 이는 성공할 때까지 시행한 총 시행 횟수 $X$에서 1을 뺀 것과 같다. 기하 분포는 성공할 때까지 시행을 계속하는 것이므로 총 시행 횟수에서 마지막 시행은 성공이라는 의미이고 따라서 실패 횟수는 전체 시행 횟수에서 $1$을 뺀 것과 같다."
   ]
  },
  {
   "cell_type": "markdown",
   "id": "7fc00e13",
   "metadata": {
    "papermill": {
     "duration": 0.008992,
     "end_time": "2025-01-12T05:59:51.676483",
     "exception": false,
     "start_time": "2025-01-12T05:59:51.667491",
     "status": "completed"
    },
    "tags": []
   },
   "source": [
    "### 1) 확률 변수를 시행 횟수라고 보는 경우"
   ]
  },
  {
   "cell_type": "markdown",
   "id": "ee92bf13",
   "metadata": {
    "papermill": {
     "duration": 0.009125,
     "end_time": "2025-01-12T05:59:51.695116",
     "exception": false,
     "start_time": "2025-01-12T05:59:51.685991",
     "status": "completed"
    },
    "tags": []
   },
   "source": [
    "<font size=\"4\">\n",
    "\n",
    "기하 분포를 따르는 확률 변수 $X$는 독립적인 베르누이 시행을 반복할 때 첫 번째 성공할 때까지의 시행 횟수를 의미한다. 즉, $iid$를 만족하는 확률 변수 $Z_1,Z_2,...,Z_n$이 성공 확률이 $p$인 베르누이 분포를 따를 때, 최초로 1이 되는 $Z_n$의 $n$에 해당하는 확률 변수 $X$는 기하 분포를 따르는 것이다. 이를 정리하면 다음과 같다.\n",
    "$$\n",
    "Z_1,Z_2,...,Z_N \\sim Bernoulli(p)\n",
    "$$\n",
    "$$\n",
    "X=inf\\{n:Z_n=1\\}\n",
    "$$\n",
    "$$\n",
    "X \\sim Geometric(p)\n",
    "$$"
   ]
  },
  {
   "cell_type": "markdown",
   "id": "e95a1334",
   "metadata": {
    "papermill": {
     "duration": 0.009335,
     "end_time": "2025-01-12T05:59:51.715944",
     "exception": false,
     "start_time": "2025-01-12T05:59:51.706609",
     "status": "completed"
    },
    "tags": []
   },
   "source": [
    "<font size=\"4\">\n",
    "\n",
    "확률 변수 $X$가 처음 성공할 때까지의 시행 횟수라고 했을 때 확률 변수 $X$는 기하 분포를 따르며 다음과 같은 확률 질량 함수를 가진다.\n",
    "$$\n",
    "X= 처음\\space 성공할\\space 때까지의\\space 시행 횟수\n",
    "$$\n",
    "$$\n",
    "X \\sim Geometric(p)\n",
    "$$\n",
    "$$\n",
    "P(X=x)=p(1-p)^{x-1}, x=1,2,...\n",
    "$$\n",
    "위 식에서 $x$가 1부터 시작하는 이유는 확률 변수 $X$가 성공할 때까지의 시행 횟수이기 때문이다. 만약 $x$가 $0$이라면 한 번도 시행하지 않고 성공했다는 말인데 이는 불가능하다."
   ]
  },
  {
   "cell_type": "markdown",
   "id": "7e42b43a",
   "metadata": {
    "papermill": {
     "duration": 0.009698,
     "end_time": "2025-01-12T05:59:51.735492",
     "exception": false,
     "start_time": "2025-01-12T05:59:51.725794",
     "status": "completed"
    },
    "tags": []
   },
   "source": [
    "<font size=\"4\">\n",
    "\n",
    "위와 같은 기하 분포의 기댓값과 분산은 다음과 같다.\n",
    "$$\n",
    "E(X)=\\frac{1}{p}\n",
    "$$\n",
    "$$\n",
    "Var(X)=\\frac{1-p}{p^2}\n",
    "$$"
   ]
  },
  {
   "cell_type": "markdown",
   "id": "a8d445bb",
   "metadata": {
    "papermill": {
     "duration": 0.009221,
     "end_time": "2025-01-12T05:59:51.754252",
     "exception": false,
     "start_time": "2025-01-12T05:59:51.745031",
     "status": "completed"
    },
    "tags": []
   },
   "source": [
    "### 2) 확률 변수를 성공할 때까지의 실패 횟수로 보는 경우"
   ]
  },
  {
   "cell_type": "markdown",
   "id": "67750792",
   "metadata": {
    "papermill": {
     "duration": 0.010089,
     "end_time": "2025-01-12T05:59:51.774339",
     "exception": false,
     "start_time": "2025-01-12T05:59:51.764250",
     "status": "completed"
    },
    "tags": []
   },
   "source": [
    "<font size=\"4\">\n",
    "\n",
    "기하 분포는 첫 번째 성공을 하는 순간 종료되는 분포이므로 한 번의 성공을 빼면 모두 실패이다.\n",
    "\n",
    "$$\n",
    "Y= 처음 \\space 성공할\\space 때까지의\\space 실패\\space 횟수\n",
    "$$\n",
    "$$\n",
    "Y \\sim Geometric(p)\n",
    "$$\n",
    "$$\n",
    "X=Y+1\n",
    "$$\n",
    "$$\n",
    "Y=X-1\n",
    "$$"
   ]
  },
  {
   "cell_type": "markdown",
   "id": "37bc52b0",
   "metadata": {
    "papermill": {
     "duration": 0.009768,
     "end_time": "2025-01-12T05:59:51.793703",
     "exception": false,
     "start_time": "2025-01-12T05:59:51.783935",
     "status": "completed"
    },
    "tags": []
   },
   "source": [
    "<font size=\"4\">\n",
    "\n",
    "확률 변수 $Y$는 기하 분포를 따르며 다음과 같은 확률 질량 함수를 가진다.\n",
    "$$\n",
    "P(Y=y)=p(1-p)^y, y=0,1,...\n",
    "$$\n",
    "\n",
    "이 경우 기댓값과 분산은 다음과 같다.\n",
    "$$\n",
    "E(Y)=\\frac{1-p}{p}\n",
    "$$\n",
    "$$\n",
    "Var(Y)=\\frac{1-p}{p^2}\n",
    "$$"
   ]
  },
  {
   "cell_type": "markdown",
   "id": "20118a2f",
   "metadata": {
    "papermill": {
     "duration": 0.009386,
     "end_time": "2025-01-12T05:59:51.812640",
     "exception": false,
     "start_time": "2025-01-12T05:59:51.803254",
     "status": "completed"
    },
    "tags": []
   },
   "source": [
    "## 기하 분포의 누적 분포 함수"
   ]
  },
  {
   "cell_type": "markdown",
   "id": "0d87437e",
   "metadata": {
    "papermill": {
     "duration": 0.009185,
     "end_time": "2025-01-12T05:59:51.831608",
     "exception": false,
     "start_time": "2025-01-12T05:59:51.822423",
     "status": "completed"
    },
    "tags": []
   },
   "source": [
    "<font size=\"4\">\n",
    "\n",
    "먼저 기하 분포의 확률 질량 함수를 보면 다음과 같다.\n",
    "$$\n",
    "P(X=x)=p(1-p)^{x-1}, x=1,2,...\n",
    "$$\n",
    "\n",
    "확률 질량 함수를 이용해 누적 분포 함수를 구하면 다음과 같다.\n",
    "\\begin{aligned}\n",
    "P(X \\leq x) &=\\Sigma ^x _{k=1}p(1-p)^{k-1}\\\\\n",
    "&=p\\Sigma^x _{k=1} (1-p)^{k-1}\\\\\n",
    "&=1-(1-p)^x\n",
    "\\end{aligned}\n",
    "\n",
    "$$\n",
    "\\therefore P(X \\leq x)=1-(1-p)^x\n",
    "$$\n",
    "\n",
    "다음과 같이 $P(X>x)$를 구할 수 있다.\n",
    "\\begin{aligned}\n",
    "P(X>x)&=1-P(X\\leq x)\\\\\n",
    "&=(1-p)^x\n",
    "\\end{aligned}\n",
    "$$\n",
    "\\therefore P(X>x)=(1-p)^x\n",
    "$$"
   ]
  },
  {
   "cell_type": "markdown",
   "id": "56d751f3",
   "metadata": {
    "papermill": {
     "duration": 0.009233,
     "end_time": "2025-01-12T05:59:51.851064",
     "exception": false,
     "start_time": "2025-01-12T05:59:51.841831",
     "status": "completed"
    },
    "tags": []
   },
   "source": [
    "## 기하 분포의 적률 생성 함수"
   ]
  },
  {
   "cell_type": "markdown",
   "id": "a627b61a",
   "metadata": {
    "papermill": {
     "duration": 0.009248,
     "end_time": "2025-01-12T05:59:51.869875",
     "exception": false,
     "start_time": "2025-01-12T05:59:51.860627",
     "status": "completed"
    },
    "tags": []
   },
   "source": [
    "<font size=\"4\">\n",
    "\n",
    "$$\n",
    "X= 처음\\space 성공할\\space 때까지의\\space 시행 횟수\n",
    "$$\n",
    "$$\n",
    "X \\sim Geometric(p)\n",
    "$$\n",
    "$$\n",
    "P(X=x)=p(1-p)^{x-1}, x=1,2,...\n",
    "$$"
   ]
  },
  {
   "cell_type": "markdown",
   "id": "f95993f8",
   "metadata": {
    "papermill": {
     "duration": 0.009291,
     "end_time": "2025-01-12T05:59:51.890284",
     "exception": false,
     "start_time": "2025-01-12T05:59:51.880993",
     "status": "completed"
    },
    "tags": []
   },
   "source": [
    "<font size=\"4\">\n",
    "\n",
    "위와 같은 확률 질량 함수에 대해 적률 생성 함수 $M_X(t)$를 구하면 다음과 같다.\n",
    "\\begin{aligned}\n",
    "M_X(t)&=E(e^{tx})\\\\\n",
    "&=\\Sigma e^{tx}P(X=x)\\\\\n",
    "&=\\Sigma ^\\infty _{x=1} e^{tx}p(1-p)^{x-1}\\\\\n",
    "&=\\frac{p}{1-p}\\Sigma ^\\infty _{x=1}[e^t(1-p)]^x=\\frac{p}{1-p}\\cdot \\frac{e^t(1-p)}{1-(1-p)e^t}\\\\\n",
    "&=\\frac{pe^t}{1-(1-p)e^t}\n",
    "\\end{aligned}\n",
    "$$\n",
    "\\therefore M_X(t)=\\frac{pe^t}{1-(1-p)e^t}\n",
    "$$"
   ]
  },
  {
   "cell_type": "markdown",
   "id": "5af4aabb",
   "metadata": {
    "papermill": {
     "duration": 0.009083,
     "end_time": "2025-01-12T05:59:51.909383",
     "exception": false,
     "start_time": "2025-01-12T05:59:51.900300",
     "status": "completed"
    },
    "tags": []
   },
   "source": [
    "## 기하 분포의 무기억성"
   ]
  },
  {
   "cell_type": "markdown",
   "id": "464ecaf1",
   "metadata": {
    "papermill": {
     "duration": 0.009112,
     "end_time": "2025-01-12T05:59:51.928125",
     "exception": false,
     "start_time": "2025-01-12T05:59:51.919013",
     "status": "completed"
    },
    "tags": []
   },
   "source": [
    "<font size=\"4\">\n",
    "\n",
    "기하 분포는 **무기억성(memoryless property)** 이라는 성질을 가지고 있는데 이는 매우 중요하다. 어떠한 이산형 확률 변수가 무기억성이라는 성질을 가지고 있다는 사실만 알아도 해당 확률 변수는 기하 분포를 따른다는 사실을 알 수 있기 때문이다. 기하 분포의 무기억성이란 다음과 같은 성질을 의미한다."
   ]
  },
  {
   "cell_type": "markdown",
   "id": "1ff883a2",
   "metadata": {
    "papermill": {
     "duration": 0.009269,
     "end_time": "2025-01-12T05:59:51.946808",
     "exception": false,
     "start_time": "2025-01-12T05:59:51.937539",
     "status": "completed"
    },
    "tags": []
   },
   "source": [
    "<font size=\"4\">\n",
    "\n",
    "1. 만약 확률 변수 $X$가 기하 분포를 따른다면, 확률 변수 $X$는 다음과 같은 무기억성을 따른다.\n",
    "   $$\n",
    "   X \\sim Geometric(p)\n",
    "   $$\n",
    "   $$\n",
    "   P(X>y+z|X>y)=P(X>z), \\space for \\space all \\space y,z>0\n",
    "   $$\n",
    "   $$\n",
    "   P(X>y+z)=P(X>y)P(X>z), \\space for \\space all \\space y,z>0\n",
    "   $$\n",
    "   \n",
    "2. 만약 확률 변수 X가 이산형 확률 변수이고 $X$가 무기억성을 가진다면 확률 변수 $X$는 기하 분포를 따른다."
   ]
  },
  {
   "cell_type": "markdown",
   "id": "8b2174fc",
   "metadata": {
    "papermill": {
     "duration": 0.009763,
     "end_time": "2025-01-12T05:59:51.966801",
     "exception": false,
     "start_time": "2025-01-12T05:59:51.957038",
     "status": "completed"
    },
    "tags": []
   },
   "source": [
    "<font size=\"4\">\n",
    "\n",
    "1. 을 증명하면 다음과 같다.\n",
    "\n",
    "\\begin{aligned}\n",
    "P(X>y+z|X>y) &= \\frac{P(\\{X>y+z)\\}\\cap \\{X>y\\})}{P(X>y)}\\\\\n",
    "&= \\frac{P(X>y+z)}{P(X>y)}\\\\\n",
    "&=\\frac{(1-p)^{y+z}}{(1-p)^y}\\\\\n",
    "&= (1-p)^z\\\\\n",
    "&= P(X>z)\n",
    "\\end{aligned}\n",
    "\n",
    "$$\n",
    "\\therefore P(X>y+z|X>y)=P(X>z)\n",
    "$$"
   ]
  },
  {
   "cell_type": "markdown",
   "id": "8f165ca8",
   "metadata": {
    "papermill": {
     "duration": 0.009258,
     "end_time": "2025-01-12T05:59:51.985508",
     "exception": false,
     "start_time": "2025-01-12T05:59:51.976250",
     "status": "completed"
    },
    "tags": []
   },
   "source": [
    "<font size=\"4\">\n",
    "\n",
    "2. 을 증명하면 다음과 같다.\n",
    "\n",
    "확률 변수 $X$는 무기억성을 가지므로 $z=1$인 경우,\n",
    "$$\n",
    "P(X>y+1)=P(X>y)P(X>1), \\space for \\space y=1,2,3,...\n",
    "$$\n",
    "위 식에서 $y=1$인 경우,\n",
    "$$\n",
    "P(X>2)=P(X>1)^2\n",
    "$$\n",
    "를 만족하고, $y=2$인 경우\n",
    "$$\n",
    "P(X>3)=P(X>2)P(X>1)=P(X>1)^3\n",
    "$$\n",
    "를 만족한다. 이를 일반화하면\n",
    "$$\n",
    "P(X>n)=P(X>1)^n\n",
    "$$\n",
    "로 표현할 수 있으며 이는 기하 분포에서 $P(X>n)=P(X>1)^n$이라는 사실과 동일하다."
   ]
  },
  {
   "cell_type": "markdown",
   "id": "a3afc7c5",
   "metadata": {
    "papermill": {
     "duration": 0.009304,
     "end_time": "2025-01-12T05:59:52.004350",
     "exception": false,
     "start_time": "2025-01-12T05:59:51.995046",
     "status": "completed"
    },
    "tags": []
   },
   "source": [
    "# 6.음이항 분포"
   ]
  },
  {
   "cell_type": "markdown",
   "id": "46fff3ea",
   "metadata": {
    "papermill": {
     "duration": 0.009348,
     "end_time": "2025-01-12T05:59:52.023855",
     "exception": false,
     "start_time": "2025-01-12T05:59:52.014507",
     "status": "completed"
    },
    "tags": []
   },
   "source": [
    "## 음이항 분포의 개념"
   ]
  },
  {
   "cell_type": "markdown",
   "id": "1b05cc03",
   "metadata": {
    "papermill": {
     "duration": 0.009307,
     "end_time": "2025-01-12T05:59:52.043084",
     "exception": false,
     "start_time": "2025-01-12T05:59:52.033777",
     "status": "completed"
    },
    "tags": []
   },
   "source": [
    "<font size=\"4\">\n",
    "\n",
    "음이항 분포는 기하 분포의 응용 버전이라고 볼 수 있다. 기하 분포를 따르는 확률 변수가 베르누이 시행을 반복할 때, 처음 성공할 때까지의 시행 횟수 혹은 실패 횟수라고 했다면, $r$번째 성공할 때까지의 시행 횟수/실패 횟수를 확률 변수 $X$라고 한다면 확률 변수 $X$는 **음이항 분포(negative binomial distribution)** 를 따르며 확률 질량 함수는 다음과 같이 나타낼 수 있다."
   ]
  },
  {
   "cell_type": "markdown",
   "id": "e46b5c38",
   "metadata": {
    "papermill": {
     "duration": 0.009255,
     "end_time": "2025-01-12T05:59:52.062060",
     "exception": false,
     "start_time": "2025-01-12T05:59:52.052805",
     "status": "completed"
    },
    "tags": []
   },
   "source": [
    "### 1. 확률 변수를 성공할 때까지의 시행 횟수로 보는 경우"
   ]
  },
  {
   "cell_type": "markdown",
   "id": "6c2e7fb1",
   "metadata": {
    "papermill": {
     "duration": 0.009822,
     "end_time": "2025-01-12T05:59:52.081768",
     "exception": false,
     "start_time": "2025-01-12T05:59:52.071946",
     "status": "completed"
    },
    "tags": []
   },
   "source": [
    "<font size=\"4\">\n",
    "\n",
    "음이항 분포를 따르는 호가률 변수 $X$는 독립적인 베르누이 시행을 반복할 때 $r$번째 성공할 때까지의 시행 횟수를 의미한다. 즉, $iid$를 만족하는 확률 변수 $Z_1,Z_2,...,Z_n$이 성공 확률이 $p$인 베르누이 분포를 따를 때, $r$번째로 $1$이 되는 $Z_n$의 $n$에 해당하는 확률 변수 $X$는 음이항 분포를 따르는 것이다. 이를 정리하면 다음과 같다.\n",
    "\n",
    "$$\n",
    "Z_1,Z_2,...,Z_n \\sim Bernoulli(p)\n",
    "$$\n",
    "$$\n",
    "X=inf{n:\\Sigma ^n _{i=1}Z_i=r}\n",
    "$$\n",
    "$$\n",
    "X \\sim NegativeBinomial(r,p)\n",
    "$$"
   ]
  },
  {
   "cell_type": "markdown",
   "id": "5089ebfe",
   "metadata": {
    "papermill": {
     "duration": 0.009173,
     "end_time": "2025-01-12T05:59:52.100483",
     "exception": false,
     "start_time": "2025-01-12T05:59:52.091310",
     "status": "completed"
    },
    "tags": []
   },
   "source": [
    "<font size=\"4\">\n",
    "\n",
    "확률 변수 $X$를 $r$번째 성공할 때까지의 시행 횟수라고 하자. 이 경우 확률 변수는 음이항 분포를 따르며 다음과 같은 확률 질량 함수를 따른다.\n",
    "$$\n",
    "X=r번 \\space 성공할 \\space 때까지의 \\space 시행 \\space 횟수\n",
    "$$\n",
    "$$\n",
    "X \\sim NegativeBinomial(r,p)\n",
    "$$\n",
    "$$\n",
    "P(X=x)=\\binom{x-1}{r-1}p^r(1-p)^{x-r}, \\space x=r,r+1,...\n",
    "$$\n",
    "\n",
    "위 확률 질량 함수를 보면 확률 변수 $X$는 $r$부터 시작하는 것을 알 수 있다. $r$번 성공하려면 최소 $r$번 시행해야 한다."
   ]
  },
  {
   "cell_type": "markdown",
   "id": "ec80f9a5",
   "metadata": {
    "papermill": {
     "duration": 0.00912,
     "end_time": "2025-01-12T05:59:52.119254",
     "exception": false,
     "start_time": "2025-01-12T05:59:52.110134",
     "status": "completed"
    },
    "tags": []
   },
   "source": [
    "<font size=\"4\">\n",
    "\n",
    "음이항 분포의 기댓값과 분산은 다음과 같이 구할 수 있다.\n",
    "$$\n",
    "E(X)=\\frac{r}{p}\n",
    "$$\n",
    "$$\n",
    "Var(X)=\\frac{r(1-p)}{p^2}\n",
    "$$"
   ]
  },
  {
   "cell_type": "markdown",
   "id": "81f40c55",
   "metadata": {
    "papermill": {
     "duration": 0.009201,
     "end_time": "2025-01-12T05:59:52.138507",
     "exception": false,
     "start_time": "2025-01-12T05:59:52.129306",
     "status": "completed"
    },
    "tags": []
   },
   "source": [
    "### 2. 확률 변수를 성공할 때까지의 실패 횟수로 보는 경우"
   ]
  },
  {
   "cell_type": "markdown",
   "id": "ea1473c4",
   "metadata": {
    "papermill": {
     "duration": 0.00916,
     "end_time": "2025-01-12T05:59:52.157072",
     "exception": false,
     "start_time": "2025-01-12T05:59:52.147912",
     "status": "completed"
    },
    "tags": []
   },
   "source": [
    "<font size=\"4\">\n",
    "\n",
    "확률 변수 $Y$가 $r$번 성공할 때까지의 실패 횟수라고 했을 때, 확률 변수 $Y$는 음이항 분포를 따르며 다음과 같은 확률 질량 함수를 따른다.\n",
    "$$\n",
    "Y=r번 \\space 성공할 \\space 때까지의 \\space 실패 \\space 횟수\n",
    "$$\n",
    "$$\n",
    "X=Y+r\n",
    "$$\n",
    "$$\n",
    "Y=X-r\n",
    "$$\n",
    "$$\n",
    "P(Y=y)=\\binom{r+y-1}{y}p^r(1-p)^y, \\space y=0,1,...\n",
    "$$\n",
    "위 식을 보면 확률 변수 $Y$는 $0$부터 시작하는 것을 알 수 있다. 앞서 확률 변수 $X$는 $r$번 성공할 때까지의 시행 횟수였으므로 $r$부터 시작한 반면 확률 변수 $Y$는 실패 횟수를 의미하므로 $0$부터 시작하는 것을 알 수 있다. 확률 변수 $Y$가 $0$이라는 것은 $r$번 성공할 때까지 한 번도 실패하지 않음을 의미한다."
   ]
  },
  {
   "cell_type": "markdown",
   "id": "102178d5",
   "metadata": {
    "papermill": {
     "duration": 0.009654,
     "end_time": "2025-01-12T05:59:52.176348",
     "exception": false,
     "start_time": "2025-01-12T05:59:52.166694",
     "status": "completed"
    },
    "tags": []
   },
   "source": [
    "<font size=\"4\">\n",
    "\n",
    "음이항 분포의 기댓값과 분산은 다음과 같이 구할 수 있다.\n",
    "$$\n",
    "E(Y)=\\frac{r(1-p)}{p}\n",
    "$$\n",
    "$$\n",
    "Var(Y)=\\frac{r(1-p)}{p^2}\n",
    "$$"
   ]
  },
  {
   "cell_type": "markdown",
   "id": "c6f42759",
   "metadata": {
    "papermill": {
     "duration": 0.009176,
     "end_time": "2025-01-12T05:59:52.195125",
     "exception": false,
     "start_time": "2025-01-12T05:59:52.185949",
     "status": "completed"
    },
    "tags": []
   },
   "source": [
    "## 음이항 분포와 기하 분포의 관계"
   ]
  },
  {
   "cell_type": "markdown",
   "id": "1b897204",
   "metadata": {
    "papermill": {
     "duration": 0.00906,
     "end_time": "2025-01-12T05:59:52.213802",
     "exception": false,
     "start_time": "2025-01-12T05:59:52.204742",
     "status": "completed"
    },
    "tags": []
   },
   "source": [
    "<font size=\"4\">\n",
    "\n",
    "기하 분포는 첫 번째 성공까지의 시행 횟수/실패 횟수를 의미하고 음이항 분포는 $r$번째 성공까지의 시행 횟수/실패 횟수를 의미한다. 이처럼 음이항 분포는 기하 분포와 연관이 있다."
   ]
  },
  {
   "cell_type": "markdown",
   "id": "5590ef5d",
   "metadata": {
    "papermill": {
     "duration": 0.009107,
     "end_time": "2025-01-12T05:59:52.232324",
     "exception": false,
     "start_time": "2025-01-12T05:59:52.223217",
     "status": "completed"
    },
    "tags": []
   },
   "source": [
    "<font size=\"4\">\n",
    "\n",
    "음이항 분포를 따르는 확률 변수 $X$는 $r$번째 성공까지의 시행 횟수라고 하자. 베르누이 시행을 반복할 때, 첫 번째 성공을 $X_1$이라고 하고 두 번째 성공을 $X_2$라고 했을 때, $r$번째 성공을 $X_r$이라고 하자. 이때, $X_r$은 다음과 같이 바꾸어 표현할 수 있다.\n",
    "$$\n",
    "X_r=X_1+(X_2-X_1)+(X_3-X_2)+...+(X_r-X_(r-1))\n",
    "$$\n",
    "이때, 각 항은 $Geometric(p)$를 따르고 다음과 같이 표현할 수 있다.\n",
    "$$\n",
    "X_1 \\sim Geometric(p)\n",
    "$$\n",
    "$$\n",
    "X_2-X_1 \\sim Geometric(p)\n",
    "$$\n",
    "$$\n",
    "X_3-X_2 \\sim Geometric(p)\n",
    "$$\n",
    "$$\n",
    "...\n",
    "$$\n",
    "$$\n",
    "X_r-X_{(r-1)} \\sim Geometric(p)\n",
    "$$"
   ]
  }
 ],
 "metadata": {
  "kaggle": {
   "accelerator": "none",
   "dataSources": [],
   "dockerImageVersionId": 30822,
   "isGpuEnabled": false,
   "isInternetEnabled": true,
   "language": "python",
   "sourceType": "notebook"
  },
  "kernelspec": {
   "display_name": "Python 3",
   "language": "python",
   "name": "python3"
  },
  "language_info": {
   "codemirror_mode": {
    "name": "ipython",
    "version": 3
   },
   "file_extension": ".py",
   "mimetype": "text/x-python",
   "name": "python",
   "nbconvert_exporter": "python",
   "pygments_lexer": "ipython3",
   "version": "3.10.12"
  },
  "papermill": {
   "default_parameters": {},
   "duration": 4.423201,
   "end_time": "2025-01-12T05:59:52.763525",
   "environment_variables": {},
   "exception": null,
   "input_path": "__notebook__.ipynb",
   "output_path": "__notebook__.ipynb",
   "parameters": {},
   "start_time": "2025-01-12T05:59:48.340324",
   "version": "2.6.0"
  }
 },
 "nbformat": 4,
 "nbformat_minor": 5
}
